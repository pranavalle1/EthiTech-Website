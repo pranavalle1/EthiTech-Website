{
 "cells": [
  {
   "cell_type": "code",
   "execution_count": 6,
   "id": "9cd421f8",
   "metadata": {},
   "outputs": [],
   "source": [
    "\n"
   ]
  },
  {
   "cell_type": "code",
   "execution_count": null,
   "id": "0c2024df",
   "metadata": {},
   "outputs": [],
   "source": [
    "f = input(\"Sample_file\")\n",
    "with open('sample_file.txt', 'r') as file:\n",
    "    for line in file:\n",
    "        try:\n",
    "            num = int(line)\n",
    "            print(num)\n",
    "        except ValueError:\n",
    "            pass"
   ]
  },
  {
   "cell_type": "code",
   "execution_count": null,
   "id": "2632984b",
   "metadata": {},
   "outputs": [],
   "source": [
    "jname = input(\"Hello\\n145\\n375\\n500\\n0\\n2,hi,10\\n20 \")\n",
    " \n",
    "with open (fname, 'r') as j:\n",
    "    for line in j:\n",
    "        words = line.split()\n",
    "        for i in words:\n",
    "            for letter in i:\n",
    "                if(letter.isdigit()):\n",
    "                    print(letter)"
   ]
  },
  {
   "cell_type": "code",
   "execution_count": null,
   "id": "4efb16a3",
   "metadata": {},
   "outputs": [],
   "source": [
    "f = open('sample_file.txt','r')\n",
    "print(f.readline())"
   ]
  },
  {
   "cell_type": "code",
   "execution_count": null,
   "id": "4ce85eb6",
   "metadata": {},
   "outputs": [],
   "source": []
  }
 ],
 "metadata": {
  "kernelspec": {
   "display_name": "Python 3 (ipykernel)",
   "language": "python",
   "name": "python3"
  },
  "language_info": {
   "codemirror_mode": {
    "name": "ipython",
    "version": 3
   },
   "file_extension": ".py",
   "mimetype": "text/x-python",
   "name": "python",
   "nbconvert_exporter": "python",
   "pygments_lexer": "ipython3",
   "version": "3.9.13"
  }
 },
 "nbformat": 4,
 "nbformat_minor": 5
}
